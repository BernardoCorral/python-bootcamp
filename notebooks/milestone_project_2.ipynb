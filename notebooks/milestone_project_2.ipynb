{
 "cells": [
  {
   "cell_type": "code",
   "execution_count": 1,
   "id": "7f47d5d4-57f7-4186-88cf-22186cd614d0",
   "metadata": {},
   "outputs": [],
   "source": [
    "#Projeto Final do Curso — Milestone Project 2\n",
    "#Autor: Bernardo Corral\n",
    "#Descrição: Implementação de um jogo de blackjack em Python\n",
    "#usando funções, estruturas de repetição e OOP."
   ]
  },
  {
   "cell_type": "code",
   "execution_count": 2,
   "id": "bec4e7b8-7de1-4a16-9a32-c959ef493412",
   "metadata": {},
   "outputs": [],
   "source": [
    "# PROJECT START!!"
   ]
  },
  {
   "cell_type": "code",
   "execution_count": 3,
   "id": "67905a00-2910-4773-8752-64589ca2ff1b",
   "metadata": {},
   "outputs": [],
   "source": [
    "import random\n",
    "\n",
    "suits = ('Hearts', 'Diamonds', 'Spades', 'Clubs')\n",
    "ranks = ('Two', 'Three', 'Four', 'Five', 'Six', 'Seven', 'Eight', 'Nine', 'Ten', 'Jack', 'Queen', 'King', 'Ace')\n",
    "values = {'Two':2, 'Three':3, 'Four':4, 'Five':5, 'Six':6, 'Seven':7, 'Eight':8, 'Nine':9, 'Ten':10, 'Jack':10,\n",
    "         'Queen':10, 'King':10, 'Ace':11}\n",
    "\n",
    "playing = True"
   ]
  },
  {
   "cell_type": "code",
   "execution_count": 4,
   "id": "ad4f24a7-c197-492f-8690-cb91d8be629c",
   "metadata": {},
   "outputs": [],
   "source": [
    "class Card():\n",
    "\n",
    "    def __init__(self,suit,rank):\n",
    "        self.suit = suit\n",
    "        self.rank = rank\n",
    "\n",
    "    def __str__(self):\n",
    "        return self.rank+ \" of \"+self.suit"
   ]
  },
  {
   "cell_type": "code",
   "execution_count": 5,
   "id": "67d9e95e-7b55-41e4-998b-3e8be4324fef",
   "metadata": {},
   "outputs": [],
   "source": [
    "class Deck:\n",
    "    \n",
    "    def __init__(self):\n",
    "        self.deck = []  # start with an empty list\n",
    "        for suit in suits:\n",
    "            for rank in ranks:\n",
    "                self.deck.append(Card(suit,rank))\n",
    "    \n",
    "    def __str__(self):\n",
    "        deck_comp = ''\n",
    "        for card in self.deck:\n",
    "            deck_comp += '\\n'+ card.__str__()\n",
    "        return \"The deck has: \"+deck_comp\n",
    "\n",
    "    def shuffle(self):\n",
    "        random.shuffle(self.deck)\n",
    "        \n",
    "    def deal(self):\n",
    "        single_card = self.deck.pop()\n",
    "        return single_card"
   ]
  },
  {
   "cell_type": "code",
   "execution_count": 6,
   "id": "5793d2c2-88b2-4522-8b21-39068b370068",
   "metadata": {},
   "outputs": [
    {
     "name": "stdout",
     "output_type": "stream",
     "text": [
      "The deck has: \n",
      "Queen of Hearts\n",
      "Six of Spades\n",
      "Jack of Clubs\n",
      "Nine of Clubs\n",
      "Seven of Spades\n",
      "Two of Spades\n",
      "Four of Clubs\n",
      "Ace of Diamonds\n",
      "Seven of Clubs\n",
      "Queen of Clubs\n",
      "King of Clubs\n",
      "Six of Diamonds\n",
      "King of Diamonds\n",
      "Jack of Spades\n",
      "Ace of Spades\n",
      "Queen of Diamonds\n",
      "Queen of Spades\n",
      "Four of Spades\n",
      "Five of Diamonds\n",
      "Three of Clubs\n",
      "Four of Hearts\n",
      "Eight of Diamonds\n",
      "Five of Hearts\n",
      "Five of Spades\n",
      "Six of Hearts\n",
      "Nine of Spades\n",
      "Three of Diamonds\n",
      "Nine of Diamonds\n",
      "Ace of Hearts\n",
      "Five of Clubs\n",
      "King of Hearts\n",
      "Two of Hearts\n",
      "Ten of Hearts\n",
      "Ten of Spades\n",
      "Seven of Hearts\n",
      "Three of Hearts\n",
      "Seven of Diamonds\n",
      "King of Spades\n",
      "Jack of Hearts\n",
      "Six of Clubs\n",
      "Three of Spades\n",
      "Eight of Hearts\n",
      "Nine of Hearts\n",
      "Eight of Clubs\n",
      "Two of Diamonds\n",
      "Ten of Diamonds\n",
      "Ace of Clubs\n",
      "Eight of Spades\n",
      "Four of Diamonds\n",
      "Jack of Diamonds\n",
      "Two of Clubs\n",
      "Ten of Clubs\n"
     ]
    }
   ],
   "source": [
    "test_deck = Deck()\n",
    "test_deck.shuffle()\n",
    "print(test_deck)"
   ]
  },
  {
   "cell_type": "code",
   "execution_count": 7,
   "id": "0a1ac6fb-736b-4838-b0db-398ca270bca7",
   "metadata": {},
   "outputs": [],
   "source": [
    "class Hand:\n",
    "    def __init__(self):\n",
    "        self.cards = []  # start with an empty list as we did in the Deck class\n",
    "        self.value = 0   # start with zero value\n",
    "        self.aces = 0    # add an attribute to keep track of aces\n",
    "    \n",
    "    def add_card(self,card):\n",
    "        self.cards.append(card)\n",
    "        self.value += values[card.rank]\n",
    "\n",
    "        if card.rank == 'Ace':\n",
    "            self.aces += 1\n",
    "    \n",
    "    def adjust_for_ace(self):\n",
    "\n",
    "        while self.value > 21 and self.aces:\n",
    "            self.value -= 10\n",
    "            self.aces -= 1"
   ]
  },
  {
   "cell_type": "code",
   "execution_count": 8,
   "id": "c71e1b69-fa8a-4b42-9eb9-da7c11ef4ab0",
   "metadata": {},
   "outputs": [
    {
     "name": "stdout",
     "output_type": "stream",
     "text": [
      "Seven of Clubs\n",
      "7\n"
     ]
    }
   ],
   "source": [
    "test_deck = Deck()\n",
    "test_deck.shuffle()\n",
    "\n",
    "test_player = Hand()\n",
    "pulled_card = test_deck.deal()\n",
    "print(pulled_card)\n",
    "test_player.add_card(pulled_card)\n",
    "print(test_player.value)"
   ]
  },
  {
   "cell_type": "code",
   "execution_count": 9,
   "id": "d8376d6d-7ef7-41d4-8538-d332be69c156",
   "metadata": {},
   "outputs": [],
   "source": [
    "class Chips:\n",
    "    \n",
    "    def __init__(self):\n",
    "        self.total = 100  # This can be set to a default value or supplied by a user input\n",
    "        self.bet = 0\n",
    "        \n",
    "    def win_bet(self):\n",
    "        self.total += self.bet\n",
    "    \n",
    "    def lose_bet(self):\n",
    "        self.total -= self.bet"
   ]
  },
  {
   "cell_type": "code",
   "execution_count": 10,
   "id": "11a64761-217f-4df7-b43e-882936c7f9ef",
   "metadata": {},
   "outputs": [],
   "source": [
    "def take_bet(chips):\n",
    "\n",
    "    while True:\n",
    "\n",
    "        try:\n",
    "            chips.bet = int(input(\"How many chips would you like to bet?  \"))\n",
    "        except:\n",
    "            print(\"Sorry please provide an integer\")\n",
    "        else:\n",
    "            if chips.bet > chips.total:\n",
    "                print(f\"Sorry, you do not have enough chips! You have: {chips.total}\")\n",
    "            else:\n",
    "                break"
   ]
  },
  {
   "cell_type": "code",
   "execution_count": 11,
   "id": "98e9b703-1270-4515-b9e8-7383cbc8f273",
   "metadata": {},
   "outputs": [],
   "source": [
    "def hit(deck,hand):\n",
    "\n",
    "    single_card = deck.deal()\n",
    "    hand.add_card(single_card)\n",
    "    hand.adjust_for_ace()"
   ]
  },
  {
   "cell_type": "code",
   "execution_count": 12,
   "id": "70fe85a9-02ba-47e1-8dd9-e77b947c132f",
   "metadata": {},
   "outputs": [],
   "source": [
    "def hit_or_stand(deck,hand):\n",
    "\n",
    "    global playing\n",
    "\n",
    "    while True:\n",
    "        x = input(\"Hit or Stand? Enter h or s \")\n",
    "\n",
    "        if x[0].lower() == 'h':\n",
    "            hit(deck,hand)\n",
    "\n",
    "        elif x[0].lower() == 's':\n",
    "            print(\"Player Stands Dealer's Turn\")\n",
    "            playing = False\n",
    "\n",
    "        else:\n",
    "            print(\"Sorry, I did not understand that, please enter 'h' our 's' only!\")\n",
    "            continue\n",
    "        break"
   ]
  },
  {
   "cell_type": "code",
   "execution_count": 13,
   "id": "bc5e06b3-cc42-4288-b815-1099210007ca",
   "metadata": {},
   "outputs": [],
   "source": [
    "def show_some(player,dealer):\n",
    "    print(\"\\nDealer's Hand:\")\n",
    "    print(\" <card hidden>\")\n",
    "    print('',dealer.cards[1])  \n",
    "    print(\"\\nPlayer's Hand:\", *player.cards, sep='\\n ')\n",
    "    \n",
    "def show_all(player,dealer):\n",
    "    print(\"\\nDealer's Hand:\", *dealer.cards, sep='\\n ')\n",
    "    print(\"Dealer's Hand =\",dealer.value)\n",
    "    print(\"\\nPlayer's Hand:\", *player.cards, sep='\\n ')\n",
    "    print(\"Player's Hand =\",player.value)\n",
    "    \n",
    "    "
   ]
  },
  {
   "cell_type": "code",
   "execution_count": 14,
   "id": "fc535313-206d-41fa-a32b-7c947f0f4759",
   "metadata": {},
   "outputs": [],
   "source": [
    "def player_busts(player,dealer,chips):\n",
    "    print(\"Player busts!\")\n",
    "    chips.lose_bet()\n",
    "\n",
    "def player_wins(player,dealer,chips):\n",
    "    print(\"Player wins!\")\n",
    "    chips.win_bet()\n",
    "\n",
    "def dealer_busts(player,dealer,chips):\n",
    "    print(\"Dealer busts!\")\n",
    "    chips.win_bet()\n",
    "    \n",
    "def dealer_wins(player,dealer,chips):\n",
    "    print(\"Dealer wins!\")\n",
    "    chips.lose_bet()\n",
    "    \n",
    "def push(player,dealer):\n",
    "    print(\"Dealer and Player tie! It's a push.\")"
   ]
  },
  {
   "cell_type": "code",
   "execution_count": 15,
   "id": "77510c89-5180-42a2-9e56-a9913e256580",
   "metadata": {},
   "outputs": [
    {
     "name": "stdout",
     "output_type": "stream",
     "text": [
      "Welcome to BlackJack! Get as close to 21 as you can without going over!\n",
      "    Dealer hits until she reaches 17. Aces count as 1 or 11.\n"
     ]
    },
    {
     "name": "stdin",
     "output_type": "stream",
     "text": [
      "How many chips would you like to bet?   100\n"
     ]
    },
    {
     "name": "stdout",
     "output_type": "stream",
     "text": [
      "\n",
      "Dealer's Hand:\n",
      " <card hidden>\n",
      " Eight of Hearts\n",
      "\n",
      "Player's Hand:\n",
      " Nine of Spades\n",
      " Seven of Hearts\n"
     ]
    },
    {
     "name": "stdin",
     "output_type": "stream",
     "text": [
      "Hit or Stand? Enter h or s  h\n"
     ]
    },
    {
     "name": "stdout",
     "output_type": "stream",
     "text": [
      "\n",
      "Dealer's Hand:\n",
      " <card hidden>\n",
      " Eight of Hearts\n",
      "\n",
      "Player's Hand:\n",
      " Nine of Spades\n",
      " Seven of Hearts\n",
      " Four of Spades\n"
     ]
    },
    {
     "name": "stdin",
     "output_type": "stream",
     "text": [
      "Hit or Stand? Enter h or s  h\n"
     ]
    },
    {
     "name": "stdout",
     "output_type": "stream",
     "text": [
      "\n",
      "Dealer's Hand:\n",
      " <card hidden>\n",
      " Eight of Hearts\n",
      "\n",
      "Player's Hand:\n",
      " Nine of Spades\n",
      " Seven of Hearts\n",
      " Four of Spades\n",
      " Ace of Hearts\n"
     ]
    },
    {
     "name": "stdin",
     "output_type": "stream",
     "text": [
      "Hit or Stand? Enter h or s  s\n"
     ]
    },
    {
     "name": "stdout",
     "output_type": "stream",
     "text": [
      "Player Stands Dealer's Turn\n",
      "\n",
      "Dealer's Hand:\n",
      " <card hidden>\n",
      " Eight of Hearts\n",
      "\n",
      "Player's Hand:\n",
      " Nine of Spades\n",
      " Seven of Hearts\n",
      " Four of Spades\n",
      " Ace of Hearts\n",
      "\n",
      "Dealer's Hand:\n",
      " Ten of Clubs\n",
      " Eight of Hearts\n",
      "Dealer's Hand = 18\n",
      "\n",
      "Player's Hand:\n",
      " Nine of Spades\n",
      " Seven of Hearts\n",
      " Four of Spades\n",
      " Ace of Hearts\n",
      "Player's Hand = 21\n",
      "Player wins!\n",
      "\n",
      "Player's winnings stand at 200\n"
     ]
    },
    {
     "name": "stdin",
     "output_type": "stream",
     "text": [
      "Would you like to play another hand? Enter 'y' or 'n'  n\n"
     ]
    },
    {
     "name": "stdout",
     "output_type": "stream",
     "text": [
      "Thanks for playing!\n"
     ]
    }
   ],
   "source": [
    "while True:\n",
    "    # Print an opening statement\n",
    "    print('Welcome to BlackJack! Get as close to 21 as you can without going over!\\n\\\n",
    "    Dealer hits until she reaches 17. Aces count as 1 or 11.')\n",
    "    \n",
    "    # Create & shuffle the deck, deal two cards to each player\n",
    "    deck = Deck()\n",
    "    deck.shuffle()\n",
    "    \n",
    "    player_hand = Hand()\n",
    "    player_hand.add_card(deck.deal())\n",
    "    player_hand.add_card(deck.deal())\n",
    "    \n",
    "    dealer_hand = Hand()\n",
    "    dealer_hand.add_card(deck.deal())\n",
    "    dealer_hand.add_card(deck.deal())\n",
    "            \n",
    "    # Set up the Player's chips\n",
    "    player_chips = Chips()  # remember the default value is 100    \n",
    "    \n",
    "    # Prompt the Player for their bet\n",
    "    take_bet(player_chips)\n",
    "    \n",
    "    # Show cards (but keep one dealer card hidden)\n",
    "    show_some(player_hand,dealer_hand)\n",
    "    \n",
    "    while playing:  # recall this variable from our hit_or_stand function\n",
    "        \n",
    "        # Prompt for Player to Hit or Stand\n",
    "        hit_or_stand(deck,player_hand) \n",
    "        \n",
    "        # Show cards (but keep one dealer card hidden)\n",
    "        show_some(player_hand,dealer_hand)  \n",
    "        \n",
    "        # If player's hand exceeds 21, run player_busts() and break out of loop\n",
    "        if player_hand.value > 21:\n",
    "            player_busts(player_hand,dealer_hand,player_chips)\n",
    "            break        \n",
    "\n",
    "\n",
    "    # If Player hasn't busted, play Dealer's hand until Dealer reaches 17 \n",
    "    if player_hand.value <= 21:\n",
    "        \n",
    "        while dealer_hand.value < 17:\n",
    "            hit(deck,dealer_hand)    \n",
    "    \n",
    "        # Show all cards\n",
    "        show_all(player_hand,dealer_hand)\n",
    "        \n",
    "        # Run different winning scenarios\n",
    "        if dealer_hand.value > 21:\n",
    "            dealer_busts(player_hand,dealer_hand,player_chips)\n",
    "\n",
    "        elif dealer_hand.value > player_hand.value:\n",
    "            dealer_wins(player_hand,dealer_hand,player_chips)\n",
    "\n",
    "        elif dealer_hand.value < player_hand.value:\n",
    "            player_wins(player_hand,dealer_hand,player_chips)\n",
    "\n",
    "        else:\n",
    "            push(player_hand,dealer_hand)        \n",
    "    \n",
    "    # Inform Player of their chips total \n",
    "    print(\"\\nPlayer's winnings stand at\",player_chips.total)\n",
    "    \n",
    "    # Ask to play again\n",
    "    new_game = input(\"Would you like to play another hand? Enter 'y' or 'n' \")\n",
    "    \n",
    "    if new_game[0].lower()=='y':\n",
    "        playing=True\n",
    "        continue\n",
    "    else:\n",
    "        print(\"Thanks for playing!\")\n",
    "        break"
   ]
  },
  {
   "cell_type": "code",
   "execution_count": 17,
   "id": "4183ba31-e157-43c8-9a5c-4950a5b1e7fa",
   "metadata": {},
   "outputs": [],
   "source": [
    "## Conclusão\n",
    "#Este projeto consolidou todo o aprendizado do curso em **lógica, funções, POO e boas práticas de código**.\n",
    "#A construção do Milestone Project 2 marca o encerramento do curso e demonstra proficiência básica em Python 3.\n",
    "#Obrigado!"
   ]
  },
  {
   "cell_type": "code",
   "execution_count": null,
   "id": "1ff26fbc-9c6d-4393-9628-30176bb35860",
   "metadata": {},
   "outputs": [],
   "source": []
  }
 ],
 "metadata": {
  "kernelspec": {
   "display_name": "Python [conda env:base] *",
   "language": "python",
   "name": "conda-base-py"
  },
  "language_info": {
   "codemirror_mode": {
    "name": "ipython",
    "version": 3
   },
   "file_extension": ".py",
   "mimetype": "text/x-python",
   "name": "python",
   "nbconvert_exporter": "python",
   "pygments_lexer": "ipython3",
   "version": "3.13.5"
  }
 },
 "nbformat": 4,
 "nbformat_minor": 5
}
